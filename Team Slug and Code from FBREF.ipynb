{
 "cells": [
  {
   "cell_type": "code",
   "execution_count": 1,
   "metadata": {
    "ExecuteTime": {
     "end_time": "2022-01-18T03:32:29.868642Z",
     "start_time": "2022-01-18T03:32:28.868517Z"
    }
   },
   "outputs": [],
   "source": [
    "import pandas as pd\n",
    "import requests\n",
    "from bs4 import BeautifulSoup"
   ]
  },
  {
   "cell_type": "code",
   "execution_count": 3,
   "metadata": {
    "ExecuteTime": {
     "end_time": "2022-01-18T03:34:35.469071Z",
     "start_time": "2022-01-18T03:34:34.898891Z"
    }
   },
   "outputs": [
    {
     "name": "stdout",
     "output_type": "stream",
     "text": [
      "Scraping status :  200\n"
     ]
    }
   ],
   "source": [
    "url='https://fbref.com/en/comps/9/Premier-League-Stats' #Premier League\n",
    "\n",
    "r=requests.get(url)\n",
    "print('Scraping status : ',r.status_code)"
   ]
  },
  {
   "cell_type": "code",
   "execution_count": 5,
   "metadata": {
    "ExecuteTime": {
     "end_time": "2022-01-18T03:36:44.294350Z",
     "start_time": "2022-01-18T03:36:43.769491Z"
    }
   },
   "outputs": [],
   "source": [
    "soup=BeautifulSoup(r.text)\n",
    "rows=soup.find('table', {'id':'results111601_overall'}).find_all('tr')"
   ]
  },
  {
   "cell_type": "code",
   "execution_count": 23,
   "metadata": {
    "ExecuteTime": {
     "end_time": "2022-01-18T03:49:12.921276Z",
     "start_time": "2022-01-18T03:49:12.869264Z"
    }
   },
   "outputs": [
    {
     "data": {
      "text/html": [
       "<div>\n",
       "<style scoped>\n",
       "    .dataframe tbody tr th:only-of-type {\n",
       "        vertical-align: middle;\n",
       "    }\n",
       "\n",
       "    .dataframe tbody tr th {\n",
       "        vertical-align: top;\n",
       "    }\n",
       "\n",
       "    .dataframe thead th {\n",
       "        text-align: right;\n",
       "    }\n",
       "</style>\n",
       "<table border=\"1\" class=\"dataframe\">\n",
       "  <thead>\n",
       "    <tr style=\"text-align: right;\">\n",
       "      <th></th>\n",
       "      <th>club</th>\n",
       "      <th>code</th>\n",
       "      <th>slug</th>\n",
       "    </tr>\n",
       "  </thead>\n",
       "  <tbody>\n",
       "    <tr>\n",
       "      <th>0</th>\n",
       "      <td>Manchester City</td>\n",
       "      <td>b8fd03ef</td>\n",
       "      <td>Manchester-City</td>\n",
       "    </tr>\n",
       "    <tr>\n",
       "      <th>1</th>\n",
       "      <td>Liverpool</td>\n",
       "      <td>822bd0ba</td>\n",
       "      <td>Liverpool</td>\n",
       "    </tr>\n",
       "    <tr>\n",
       "      <th>2</th>\n",
       "      <td>Chelsea</td>\n",
       "      <td>cff3d9bb</td>\n",
       "      <td>Chelse</td>\n",
       "    </tr>\n",
       "    <tr>\n",
       "      <th>3</th>\n",
       "      <td>West Ham</td>\n",
       "      <td>7c21e445</td>\n",
       "      <td>West-Ham-United</td>\n",
       "    </tr>\n",
       "    <tr>\n",
       "      <th>4</th>\n",
       "      <td>Arsenal</td>\n",
       "      <td>18bb7c10</td>\n",
       "      <td>Arsenal</td>\n",
       "    </tr>\n",
       "    <tr>\n",
       "      <th>5</th>\n",
       "      <td>Tottenham</td>\n",
       "      <td>361ca564</td>\n",
       "      <td>Tottenham-Hotspur</td>\n",
       "    </tr>\n",
       "    <tr>\n",
       "      <th>6</th>\n",
       "      <td>Manchester Utd</td>\n",
       "      <td>19538871</td>\n",
       "      <td>Manchester-United</td>\n",
       "    </tr>\n",
       "    <tr>\n",
       "      <th>7</th>\n",
       "      <td>Wolves</td>\n",
       "      <td>8cec06e1</td>\n",
       "      <td>Wolverhampton-Wanderer</td>\n",
       "    </tr>\n",
       "    <tr>\n",
       "      <th>8</th>\n",
       "      <td>Brighton</td>\n",
       "      <td>d07537b9</td>\n",
       "      <td>Brighton-and-Hove-Albion</td>\n",
       "    </tr>\n",
       "    <tr>\n",
       "      <th>9</th>\n",
       "      <td>Leicester City</td>\n",
       "      <td>a2d435b3</td>\n",
       "      <td>Leicester-City</td>\n",
       "    </tr>\n",
       "    <tr>\n",
       "      <th>10</th>\n",
       "      <td>Crystal Palace</td>\n",
       "      <td>47c64c55</td>\n",
       "      <td>Crystal-Palace</td>\n",
       "    </tr>\n",
       "    <tr>\n",
       "      <th>11</th>\n",
       "      <td>Southampton</td>\n",
       "      <td>33c895d4</td>\n",
       "      <td>outhampton</td>\n",
       "    </tr>\n",
       "    <tr>\n",
       "      <th>12</th>\n",
       "      <td>Aston Villa</td>\n",
       "      <td>8602292d</td>\n",
       "      <td>Aston-Vill</td>\n",
       "    </tr>\n",
       "    <tr>\n",
       "      <th>13</th>\n",
       "      <td>Brentford</td>\n",
       "      <td>cd051869</td>\n",
       "      <td>Brentford</td>\n",
       "    </tr>\n",
       "    <tr>\n",
       "      <th>14</th>\n",
       "      <td>Leeds United</td>\n",
       "      <td>5bfb9659</td>\n",
       "      <td>Leeds-United</td>\n",
       "    </tr>\n",
       "    <tr>\n",
       "      <th>15</th>\n",
       "      <td>Everton</td>\n",
       "      <td>d3fd31cc</td>\n",
       "      <td>Everton</td>\n",
       "    </tr>\n",
       "    <tr>\n",
       "      <th>16</th>\n",
       "      <td>Watford</td>\n",
       "      <td>2abfe087</td>\n",
       "      <td>Watford</td>\n",
       "    </tr>\n",
       "    <tr>\n",
       "      <th>17</th>\n",
       "      <td>Norwich City</td>\n",
       "      <td>1c781004</td>\n",
       "      <td>Norwich-City</td>\n",
       "    </tr>\n",
       "    <tr>\n",
       "      <th>18</th>\n",
       "      <td>Newcastle Utd</td>\n",
       "      <td>b2b47a98</td>\n",
       "      <td>Newcastle-United</td>\n",
       "    </tr>\n",
       "    <tr>\n",
       "      <th>19</th>\n",
       "      <td>Burnley</td>\n",
       "      <td>943e8050</td>\n",
       "      <td>Burnley</td>\n",
       "    </tr>\n",
       "  </tbody>\n",
       "</table>\n",
       "</div>"
      ],
      "text/plain": [
       "               club      code                      slug\n",
       "0   Manchester City  b8fd03ef           Manchester-City\n",
       "1         Liverpool  822bd0ba                 Liverpool\n",
       "2           Chelsea  cff3d9bb                    Chelse\n",
       "3          West Ham  7c21e445           West-Ham-United\n",
       "4           Arsenal  18bb7c10                   Arsenal\n",
       "5         Tottenham  361ca564         Tottenham-Hotspur\n",
       "6    Manchester Utd  19538871         Manchester-United\n",
       "7            Wolves  8cec06e1    Wolverhampton-Wanderer\n",
       "8          Brighton  d07537b9  Brighton-and-Hove-Albion\n",
       "9    Leicester City  a2d435b3            Leicester-City\n",
       "10   Crystal Palace  47c64c55            Crystal-Palace\n",
       "11      Southampton  33c895d4                outhampton\n",
       "12      Aston Villa  8602292d                Aston-Vill\n",
       "13        Brentford  cd051869                 Brentford\n",
       "14     Leeds United  5bfb9659              Leeds-United\n",
       "15          Everton  d3fd31cc                   Everton\n",
       "16          Watford  2abfe087                   Watford\n",
       "17     Norwich City  1c781004              Norwich-City\n",
       "18    Newcastle Utd  b2b47a98          Newcastle-United\n",
       "19          Burnley  943e8050                   Burnley"
      ]
     },
     "execution_count": 23,
     "metadata": {},
     "output_type": "execute_result"
    }
   ],
   "source": [
    "headers=['club','code','slug']\n",
    "data=[]\n",
    "for row in rows[1:]:\n",
    "    club=row.find('td').text.strip()\n",
    "    code=row.find('td').a.get('href').split('/')[3]\n",
    "    slug=row.find('td').a.get('href').split('/')[4].strip('-Stats')\n",
    "    data.append([club,code,slug])\n",
    "df=pd.DataFrame(data=data,columns=headers)\n",
    "df"
   ]
  },
  {
   "cell_type": "code",
   "execution_count": 27,
   "metadata": {
    "ExecuteTime": {
     "end_time": "2022-01-18T03:51:58.657707Z",
     "start_time": "2022-01-18T03:51:58.637301Z"
    }
   },
   "outputs": [
    {
     "data": {
      "text/plain": [
       "['MAN',\n",
       " 'LIV',\n",
       " 'CHE',\n",
       " 'WES',\n",
       " 'ARS',\n",
       " 'TOT',\n",
       " 'MAN',\n",
       " 'WOL',\n",
       " 'BRI',\n",
       " 'LEI',\n",
       " 'CRY',\n",
       " 'SOU',\n",
       " 'AST',\n",
       " 'BRE',\n",
       " 'LEE',\n",
       " 'EVE',\n",
       " 'WAT',\n",
       " 'NOR',\n",
       " 'NEW',\n",
       " 'BUR']"
      ]
     },
     "execution_count": 27,
     "metadata": {},
     "output_type": "execute_result"
    }
   ],
   "source": [
    "[x[:3].upper() for x in list(df.club)]"
   ]
  },
  {
   "cell_type": "code",
   "execution_count": 28,
   "metadata": {
    "ExecuteTime": {
     "end_time": "2022-01-18T03:54:23.307501Z",
     "start_time": "2022-01-18T03:54:23.287481Z"
    }
   },
   "outputs": [],
   "source": [
    "team=['MCI',\n",
    " 'LIV',\n",
    " 'CHE',\n",
    " 'WHU',\n",
    " 'ARS',\n",
    " 'TOT',\n",
    " 'MUN',\n",
    " 'WOL',\n",
    " 'BHA',\n",
    " 'LEI',\n",
    " 'CRY',\n",
    " 'SOU',\n",
    " 'AVL',\n",
    " 'BRE',\n",
    " 'LEE',\n",
    " 'EVE',\n",
    " 'WAT',\n",
    " 'NOR',\n",
    " 'NEW',\n",
    " 'BUR']"
   ]
  },
  {
   "cell_type": "code",
   "execution_count": 29,
   "metadata": {
    "ExecuteTime": {
     "end_time": "2022-01-18T03:54:36.757149Z",
     "start_time": "2022-01-18T03:54:36.747562Z"
    }
   },
   "outputs": [],
   "source": [
    "df['team']=team"
   ]
  },
  {
   "cell_type": "code",
   "execution_count": 30,
   "metadata": {
    "ExecuteTime": {
     "end_time": "2022-01-18T03:54:39.257198Z",
     "start_time": "2022-01-18T03:54:39.237561Z"
    }
   },
   "outputs": [
    {
     "data": {
      "text/html": [
       "<div>\n",
       "<style scoped>\n",
       "    .dataframe tbody tr th:only-of-type {\n",
       "        vertical-align: middle;\n",
       "    }\n",
       "\n",
       "    .dataframe tbody tr th {\n",
       "        vertical-align: top;\n",
       "    }\n",
       "\n",
       "    .dataframe thead th {\n",
       "        text-align: right;\n",
       "    }\n",
       "</style>\n",
       "<table border=\"1\" class=\"dataframe\">\n",
       "  <thead>\n",
       "    <tr style=\"text-align: right;\">\n",
       "      <th></th>\n",
       "      <th>club</th>\n",
       "      <th>code</th>\n",
       "      <th>slug</th>\n",
       "      <th>team</th>\n",
       "    </tr>\n",
       "  </thead>\n",
       "  <tbody>\n",
       "    <tr>\n",
       "      <th>0</th>\n",
       "      <td>Manchester City</td>\n",
       "      <td>b8fd03ef</td>\n",
       "      <td>Manchester-City</td>\n",
       "      <td>MCI</td>\n",
       "    </tr>\n",
       "    <tr>\n",
       "      <th>1</th>\n",
       "      <td>Liverpool</td>\n",
       "      <td>822bd0ba</td>\n",
       "      <td>Liverpool</td>\n",
       "      <td>LIV</td>\n",
       "    </tr>\n",
       "    <tr>\n",
       "      <th>2</th>\n",
       "      <td>Chelsea</td>\n",
       "      <td>cff3d9bb</td>\n",
       "      <td>Chelse</td>\n",
       "      <td>CHE</td>\n",
       "    </tr>\n",
       "    <tr>\n",
       "      <th>3</th>\n",
       "      <td>West Ham</td>\n",
       "      <td>7c21e445</td>\n",
       "      <td>West-Ham-United</td>\n",
       "      <td>WHU</td>\n",
       "    </tr>\n",
       "    <tr>\n",
       "      <th>4</th>\n",
       "      <td>Arsenal</td>\n",
       "      <td>18bb7c10</td>\n",
       "      <td>Arsenal</td>\n",
       "      <td>ARS</td>\n",
       "    </tr>\n",
       "    <tr>\n",
       "      <th>5</th>\n",
       "      <td>Tottenham</td>\n",
       "      <td>361ca564</td>\n",
       "      <td>Tottenham-Hotspur</td>\n",
       "      <td>TOT</td>\n",
       "    </tr>\n",
       "    <tr>\n",
       "      <th>6</th>\n",
       "      <td>Manchester Utd</td>\n",
       "      <td>19538871</td>\n",
       "      <td>Manchester-United</td>\n",
       "      <td>MUN</td>\n",
       "    </tr>\n",
       "    <tr>\n",
       "      <th>7</th>\n",
       "      <td>Wolves</td>\n",
       "      <td>8cec06e1</td>\n",
       "      <td>Wolverhampton-Wanderer</td>\n",
       "      <td>WOL</td>\n",
       "    </tr>\n",
       "    <tr>\n",
       "      <th>8</th>\n",
       "      <td>Brighton</td>\n",
       "      <td>d07537b9</td>\n",
       "      <td>Brighton-and-Hove-Albion</td>\n",
       "      <td>BHA</td>\n",
       "    </tr>\n",
       "    <tr>\n",
       "      <th>9</th>\n",
       "      <td>Leicester City</td>\n",
       "      <td>a2d435b3</td>\n",
       "      <td>Leicester-City</td>\n",
       "      <td>LEI</td>\n",
       "    </tr>\n",
       "    <tr>\n",
       "      <th>10</th>\n",
       "      <td>Crystal Palace</td>\n",
       "      <td>47c64c55</td>\n",
       "      <td>Crystal-Palace</td>\n",
       "      <td>CRY</td>\n",
       "    </tr>\n",
       "    <tr>\n",
       "      <th>11</th>\n",
       "      <td>Southampton</td>\n",
       "      <td>33c895d4</td>\n",
       "      <td>outhampton</td>\n",
       "      <td>SOU</td>\n",
       "    </tr>\n",
       "    <tr>\n",
       "      <th>12</th>\n",
       "      <td>Aston Villa</td>\n",
       "      <td>8602292d</td>\n",
       "      <td>Aston-Vill</td>\n",
       "      <td>AVL</td>\n",
       "    </tr>\n",
       "    <tr>\n",
       "      <th>13</th>\n",
       "      <td>Brentford</td>\n",
       "      <td>cd051869</td>\n",
       "      <td>Brentford</td>\n",
       "      <td>BRE</td>\n",
       "    </tr>\n",
       "    <tr>\n",
       "      <th>14</th>\n",
       "      <td>Leeds United</td>\n",
       "      <td>5bfb9659</td>\n",
       "      <td>Leeds-United</td>\n",
       "      <td>LEE</td>\n",
       "    </tr>\n",
       "    <tr>\n",
       "      <th>15</th>\n",
       "      <td>Everton</td>\n",
       "      <td>d3fd31cc</td>\n",
       "      <td>Everton</td>\n",
       "      <td>EVE</td>\n",
       "    </tr>\n",
       "    <tr>\n",
       "      <th>16</th>\n",
       "      <td>Watford</td>\n",
       "      <td>2abfe087</td>\n",
       "      <td>Watford</td>\n",
       "      <td>WAT</td>\n",
       "    </tr>\n",
       "    <tr>\n",
       "      <th>17</th>\n",
       "      <td>Norwich City</td>\n",
       "      <td>1c781004</td>\n",
       "      <td>Norwich-City</td>\n",
       "      <td>NOR</td>\n",
       "    </tr>\n",
       "    <tr>\n",
       "      <th>18</th>\n",
       "      <td>Newcastle Utd</td>\n",
       "      <td>b2b47a98</td>\n",
       "      <td>Newcastle-United</td>\n",
       "      <td>NEW</td>\n",
       "    </tr>\n",
       "    <tr>\n",
       "      <th>19</th>\n",
       "      <td>Burnley</td>\n",
       "      <td>943e8050</td>\n",
       "      <td>Burnley</td>\n",
       "      <td>BUR</td>\n",
       "    </tr>\n",
       "  </tbody>\n",
       "</table>\n",
       "</div>"
      ],
      "text/plain": [
       "               club      code                      slug team\n",
       "0   Manchester City  b8fd03ef           Manchester-City  MCI\n",
       "1         Liverpool  822bd0ba                 Liverpool  LIV\n",
       "2           Chelsea  cff3d9bb                    Chelse  CHE\n",
       "3          West Ham  7c21e445           West-Ham-United  WHU\n",
       "4           Arsenal  18bb7c10                   Arsenal  ARS\n",
       "5         Tottenham  361ca564         Tottenham-Hotspur  TOT\n",
       "6    Manchester Utd  19538871         Manchester-United  MUN\n",
       "7            Wolves  8cec06e1    Wolverhampton-Wanderer  WOL\n",
       "8          Brighton  d07537b9  Brighton-and-Hove-Albion  BHA\n",
       "9    Leicester City  a2d435b3            Leicester-City  LEI\n",
       "10   Crystal Palace  47c64c55            Crystal-Palace  CRY\n",
       "11      Southampton  33c895d4                outhampton  SOU\n",
       "12      Aston Villa  8602292d                Aston-Vill  AVL\n",
       "13        Brentford  cd051869                 Brentford  BRE\n",
       "14     Leeds United  5bfb9659              Leeds-United  LEE\n",
       "15          Everton  d3fd31cc                   Everton  EVE\n",
       "16          Watford  2abfe087                   Watford  WAT\n",
       "17     Norwich City  1c781004              Norwich-City  NOR\n",
       "18    Newcastle Utd  b2b47a98          Newcastle-United  NEW\n",
       "19          Burnley  943e8050                   Burnley  BUR"
      ]
     },
     "execution_count": 30,
     "metadata": {},
     "output_type": "execute_result"
    }
   ],
   "source": [
    "df"
   ]
  },
  {
   "cell_type": "code",
   "execution_count": 36,
   "metadata": {
    "ExecuteTime": {
     "end_time": "2022-01-18T04:01:22.984448Z",
     "start_time": "2022-01-18T04:01:22.968456Z"
    }
   },
   "outputs": [],
   "source": [
    "team_code_dict={}\n",
    "team_slug_dict={}\n",
    "team_name_dict={}\n",
    "for i in range(df.shape[0]):\n",
    "    team_code_dict.update({df.team[i]:df.code[i]})\n",
    "    team_slug_dict.update({df.team[i]:df.slug[i]})\n",
    "    team_name_dict.update({df.team[i]:df.club[i]})"
   ]
  },
  {
   "cell_type": "code",
   "execution_count": 37,
   "metadata": {
    "ExecuteTime": {
     "end_time": "2022-01-18T04:01:26.444422Z",
     "start_time": "2022-01-18T04:01:26.428431Z"
    }
   },
   "outputs": [
    {
     "data": {
      "text/plain": [
       "{'MCI': 'b8fd03ef',\n",
       " 'LIV': '822bd0ba',\n",
       " 'CHE': 'cff3d9bb',\n",
       " 'WHU': '7c21e445',\n",
       " 'ARS': '18bb7c10',\n",
       " 'TOT': '361ca564',\n",
       " 'MUN': '19538871',\n",
       " 'WOL': '8cec06e1',\n",
       " 'BHA': 'd07537b9',\n",
       " 'LEI': 'a2d435b3',\n",
       " 'CRY': '47c64c55',\n",
       " 'SOU': '33c895d4',\n",
       " 'AVL': '8602292d',\n",
       " 'BRE': 'cd051869',\n",
       " 'LEE': '5bfb9659',\n",
       " 'EVE': 'd3fd31cc',\n",
       " 'WAT': '2abfe087',\n",
       " 'NOR': '1c781004',\n",
       " 'NEW': 'b2b47a98',\n",
       " 'BUR': '943e8050'}"
      ]
     },
     "execution_count": 37,
     "metadata": {},
     "output_type": "execute_result"
    }
   ],
   "source": [
    "team_code_dict"
   ]
  },
  {
   "cell_type": "code",
   "execution_count": 38,
   "metadata": {
    "ExecuteTime": {
     "end_time": "2022-01-18T04:02:03.544755Z",
     "start_time": "2022-01-18T04:02:03.534459Z"
    }
   },
   "outputs": [
    {
     "data": {
      "text/plain": [
       "{'MCI': 'Manchester City',\n",
       " 'LIV': 'Liverpool',\n",
       " 'CHE': 'Chelsea',\n",
       " 'WHU': 'West Ham',\n",
       " 'ARS': 'Arsenal',\n",
       " 'TOT': 'Tottenham',\n",
       " 'MUN': 'Manchester Utd',\n",
       " 'WOL': 'Wolves',\n",
       " 'BHA': 'Brighton',\n",
       " 'LEI': 'Leicester City',\n",
       " 'CRY': 'Crystal Palace',\n",
       " 'SOU': 'Southampton',\n",
       " 'AVL': 'Aston Villa',\n",
       " 'BRE': 'Brentford',\n",
       " 'LEE': 'Leeds United',\n",
       " 'EVE': 'Everton',\n",
       " 'WAT': 'Watford',\n",
       " 'NOR': 'Norwich City',\n",
       " 'NEW': 'Newcastle Utd',\n",
       " 'BUR': 'Burnley'}"
      ]
     },
     "execution_count": 38,
     "metadata": {},
     "output_type": "execute_result"
    }
   ],
   "source": [
    "team_name_dict"
   ]
  },
  {
   "cell_type": "code",
   "execution_count": 39,
   "metadata": {
    "ExecuteTime": {
     "end_time": "2022-01-18T04:02:19.574521Z",
     "start_time": "2022-01-18T04:02:19.554583Z"
    }
   },
   "outputs": [
    {
     "data": {
      "text/plain": [
       "{'MCI': 'Manchester-City',\n",
       " 'LIV': 'Liverpool',\n",
       " 'CHE': 'Chelse',\n",
       " 'WHU': 'West-Ham-United',\n",
       " 'ARS': 'Arsenal',\n",
       " 'TOT': 'Tottenham-Hotspur',\n",
       " 'MUN': 'Manchester-United',\n",
       " 'WOL': 'Wolverhampton-Wanderer',\n",
       " 'BHA': 'Brighton-and-Hove-Albion',\n",
       " 'LEI': 'Leicester-City',\n",
       " 'CRY': 'Crystal-Palace',\n",
       " 'SOU': 'outhampton',\n",
       " 'AVL': 'Aston-Vill',\n",
       " 'BRE': 'Brentford',\n",
       " 'LEE': 'Leeds-United',\n",
       " 'EVE': 'Everton',\n",
       " 'WAT': 'Watford',\n",
       " 'NOR': 'Norwich-City',\n",
       " 'NEW': 'Newcastle-United',\n",
       " 'BUR': 'Burnley'}"
      ]
     },
     "execution_count": 39,
     "metadata": {},
     "output_type": "execute_result"
    }
   ],
   "source": [
    "team_slug_dict"
   ]
  },
  {
   "cell_type": "code",
   "execution_count": 40,
   "metadata": {
    "ExecuteTime": {
     "end_time": "2022-01-18T04:04:13.784470Z",
     "start_time": "2022-01-18T04:04:13.779401Z"
    }
   },
   "outputs": [],
   "source": [
    "pl_teams={\n",
    "    'slug':team_slug_dict,\n",
    "    'name':team_name_dict,\n",
    "    'code':team_code_dict\n",
    "}"
   ]
  },
  {
   "cell_type": "code",
   "execution_count": 41,
   "metadata": {
    "ExecuteTime": {
     "end_time": "2022-01-18T04:04:17.694537Z",
     "start_time": "2022-01-18T04:04:17.674443Z"
    }
   },
   "outputs": [
    {
     "data": {
      "text/plain": [
       "{'slug': {'MCI': 'Manchester-City',\n",
       "  'LIV': 'Liverpool',\n",
       "  'CHE': 'Chelse',\n",
       "  'WHU': 'West-Ham-United',\n",
       "  'ARS': 'Arsenal',\n",
       "  'TOT': 'Tottenham-Hotspur',\n",
       "  'MUN': 'Manchester-United',\n",
       "  'WOL': 'Wolverhampton-Wanderer',\n",
       "  'BHA': 'Brighton-and-Hove-Albion',\n",
       "  'LEI': 'Leicester-City',\n",
       "  'CRY': 'Crystal-Palace',\n",
       "  'SOU': 'outhampton',\n",
       "  'AVL': 'Aston-Vill',\n",
       "  'BRE': 'Brentford',\n",
       "  'LEE': 'Leeds-United',\n",
       "  'EVE': 'Everton',\n",
       "  'WAT': 'Watford',\n",
       "  'NOR': 'Norwich-City',\n",
       "  'NEW': 'Newcastle-United',\n",
       "  'BUR': 'Burnley'},\n",
       " 'name': {'MCI': 'Manchester City',\n",
       "  'LIV': 'Liverpool',\n",
       "  'CHE': 'Chelsea',\n",
       "  'WHU': 'West Ham',\n",
       "  'ARS': 'Arsenal',\n",
       "  'TOT': 'Tottenham',\n",
       "  'MUN': 'Manchester Utd',\n",
       "  'WOL': 'Wolves',\n",
       "  'BHA': 'Brighton',\n",
       "  'LEI': 'Leicester City',\n",
       "  'CRY': 'Crystal Palace',\n",
       "  'SOU': 'Southampton',\n",
       "  'AVL': 'Aston Villa',\n",
       "  'BRE': 'Brentford',\n",
       "  'LEE': 'Leeds United',\n",
       "  'EVE': 'Everton',\n",
       "  'WAT': 'Watford',\n",
       "  'NOR': 'Norwich City',\n",
       "  'NEW': 'Newcastle Utd',\n",
       "  'BUR': 'Burnley'},\n",
       " 'code': {'MCI': 'b8fd03ef',\n",
       "  'LIV': '822bd0ba',\n",
       "  'CHE': 'cff3d9bb',\n",
       "  'WHU': '7c21e445',\n",
       "  'ARS': '18bb7c10',\n",
       "  'TOT': '361ca564',\n",
       "  'MUN': '19538871',\n",
       "  'WOL': '8cec06e1',\n",
       "  'BHA': 'd07537b9',\n",
       "  'LEI': 'a2d435b3',\n",
       "  'CRY': '47c64c55',\n",
       "  'SOU': '33c895d4',\n",
       "  'AVL': '8602292d',\n",
       "  'BRE': 'cd051869',\n",
       "  'LEE': '5bfb9659',\n",
       "  'EVE': 'd3fd31cc',\n",
       "  'WAT': '2abfe087',\n",
       "  'NOR': '1c781004',\n",
       "  'NEW': 'b2b47a98',\n",
       "  'BUR': '943e8050'}}"
      ]
     },
     "execution_count": 41,
     "metadata": {},
     "output_type": "execute_result"
    }
   ],
   "source": [
    "pl_teams"
   ]
  },
  {
   "cell_type": "code",
   "execution_count": 42,
   "metadata": {
    "ExecuteTime": {
     "end_time": "2022-01-18T04:04:38.464789Z",
     "start_time": "2022-01-18T04:04:38.444599Z"
    }
   },
   "outputs": [],
   "source": [
    "import json"
   ]
  },
  {
   "cell_type": "code",
   "execution_count": 43,
   "metadata": {
    "ExecuteTime": {
     "end_time": "2022-01-18T04:09:11.286681Z",
     "start_time": "2022-01-18T04:09:11.266603Z"
    }
   },
   "outputs": [],
   "source": [
    "with open('pl_teams.json', 'w') as outfile:\n",
    "    json.dump(pl_teams, outfile)"
   ]
  }
 ],
 "metadata": {
  "kernelspec": {
   "display_name": "Python 3",
   "language": "python",
   "name": "python3"
  },
  "language_info": {
   "codemirror_mode": {
    "name": "ipython",
    "version": 3
   },
   "file_extension": ".py",
   "mimetype": "text/x-python",
   "name": "python",
   "nbconvert_exporter": "python",
   "pygments_lexer": "ipython3",
   "version": "3.7.4"
  }
 },
 "nbformat": 4,
 "nbformat_minor": 2
}
